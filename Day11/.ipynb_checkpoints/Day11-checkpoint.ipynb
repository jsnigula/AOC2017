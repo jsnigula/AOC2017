{
 "cells": [
  {
   "cell_type": "code",
   "execution_count": 16,
   "id": "3998b42f-e6a2-4fcf-af67-0da0cfac0f8d",
   "metadata": {},
   "outputs": [],
   "source": [
    "def read_input(infile):\n",
    "    with open(infile, 'r') as inf:\n",
    "        return inf.readline().strip().split(',')"
   ]
  },
  {
   "cell_type": "code",
   "execution_count": 17,
   "id": "da5c17b3-477b-4f2c-a51b-b526a14f95f9",
   "metadata": {},
   "outputs": [],
   "source": [
    "def walk(directions):\n",
    "    max_d = 0\n",
    "    dmap = {'n': [2, 0], 'ne': [1, 1], 'se': [-1, 1], 's': [-2, 0], 'sw': [-1, -1], 'nw': [1, -1]}\n",
    "    y, x = 0, 0\n",
    "    for d in directions:\n",
    "        y += dmap[d][0]\n",
    "        x += dmap[d][1]\n",
    "\n",
    "        max_d = max(max_d, (abs(y) + abs(x)) / 2)\n",
    "\n",
    "    return int((abs(y) + abs(x)) / 2), int(max_d)"
   ]
  },
  {
   "cell_type": "code",
   "execution_count": 18,
   "id": "02f1ce99-6ff6-4230-acc0-c841156b0b96",
   "metadata": {},
   "outputs": [
    {
     "name": "stdout",
     "output_type": "stream",
     "text": [
      "*******\n",
      "Puzzle1\n",
      "*******\n",
      "\n",
      "Test case\n",
      "---------\n",
      "\n",
      "Distance is 3\n",
      "\n",
      "Puzzle case\n",
      "-----------\n",
      "\n",
      "Distance is 794\n",
      "\n",
      "*******\n",
      "Puzzle2\n",
      "*******\n",
      "\n",
      "Test case\n",
      "---------\n",
      "\n",
      "Max distance is 3\n",
      "\n",
      "Puzzle case\n",
      "-----------\n",
      "\n",
      "Max distance is 1524\n"
     ]
    }
   ],
   "source": [
    "print('*******\\nPuzzle1\\n*******\\n')\n",
    "\n",
    "print('Test case\\n---------\\n')\n",
    "\n",
    "res, _ = walk(['se','sw','se','sw','sw'])\n",
    "\n",
    "print(f'Distance is {res}')\n",
    "\n",
    "assert res == 3\n",
    "\n",
    "print('\\nPuzzle case\\n-----------\\n')\n",
    "\n",
    "res, _ = walk(read_input('input11.txt'))\n",
    "\n",
    "print(f'Distance is {res}')\n",
    "\n",
    "assert res == 794\n",
    "\n",
    "print('\\n*******\\nPuzzle2\\n*******\\n')\n",
    "\n",
    "print('Test case\\n---------\\n')\n",
    "\n",
    "_, res = walk(['se','sw','se','sw','sw'])\n",
    "\n",
    "print(f'Max distance is {res}')\n",
    "\n",
    "assert res == 3\n",
    "\n",
    "print('\\nPuzzle case\\n-----------\\n')\n",
    "\n",
    "_, res = walk(read_input('input11.txt'))\n",
    "\n",
    "print(f'Max distance is {res}')\n",
    "\n",
    "assert res == 1524\n"
   ]
  },
  {
   "cell_type": "code",
   "execution_count": null,
   "id": "478feba0-3d74-4ece-85c6-781180f497c6",
   "metadata": {},
   "outputs": [],
   "source": []
  }
 ],
 "metadata": {
  "kernelspec": {
   "display_name": "Python 3 (ipykernel)",
   "language": "python",
   "name": "python3"
  },
  "language_info": {
   "codemirror_mode": {
    "name": "ipython",
    "version": 3
   },
   "file_extension": ".py",
   "mimetype": "text/x-python",
   "name": "python",
   "nbconvert_exporter": "python",
   "pygments_lexer": "ipython3",
   "version": "3.11.4"
  }
 },
 "nbformat": 4,
 "nbformat_minor": 5
}
