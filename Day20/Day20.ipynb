{
 "cells": [
  {
   "cell_type": "code",
   "execution_count": 1,
   "id": "a9ee00fa-7910-4dff-9470-04021b0f16b3",
   "metadata": {},
   "outputs": [],
   "source": [
    "import re\n",
    "import math\n",
    "import numpy as np"
   ]
  },
  {
   "cell_type": "code",
   "execution_count": 2,
   "id": "3998b42f-e6a2-4fcf-af67-0da0cfac0f8d",
   "metadata": {},
   "outputs": [],
   "source": [
    "def read_input(infile):\n",
    "    particles = []\n",
    "    pidx = 0\n",
    "    with open(infile, 'r') as inf:\n",
    "        for line in inf.readlines():\n",
    "            m = (re.match(r'p=<(-?\\d+),(-?\\d+),(-?\\d+)>, v=<(-?\\d+),(-?\\d+),(-?\\d+)>, a=<(-?\\d+),(-?\\d+),(-?\\d+)>', line.strip()).groups())\n",
    "            particles.append([pidx] + [int(v) for v in m])\n",
    "            pidx += 1\n",
    "\n",
    "    return particles"
   ]
  },
  {
   "cell_type": "code",
   "execution_count": 3,
   "id": "da5c17b3-477b-4f2c-a51b-b526a14f95f9",
   "metadata": {},
   "outputs": [],
   "source": [
    "def sorter(p):\n",
    "    return abs(p[7]) + abs(p[8]) + abs(p[9])\n",
    "\n",
    "def find_closest_particle(particles):\n",
    "    return sorted(particles, key=sorter)[0][0]\n",
    "\n",
    "def pos(p, i, t):\n",
    "    return p[1+i] + p[4+i]*t + 0.5*p[7+i]*t**2\n",
    "\n",
    "def eliminate(particles):\n",
    "\n",
    "    idx = []\n",
    "    p = []\n",
    "    v = []\n",
    "    a = []\n",
    "\n",
    "    for part in particles:\n",
    "        idx.append(part[0])\n",
    "        p.append(part[1:4])\n",
    "        v.append(part[4:7])\n",
    "        a.append(part[7:])\n",
    "\n",
    "    idx = np.array(idx, dtype=int)\n",
    "    p = np.array(p, dtype=int)\n",
    "    v = np.array(v, dtype=int)\n",
    "    a = np.array(a, dtype=int)\n",
    "\n",
    "    for _ in range(5000):\n",
    "\n",
    "        v += a\n",
    "        p += v\n",
    "\n",
    "        i, ii, inv, n = np.unique(p, axis=0, return_index=True, return_inverse=True, return_counts=True)\n",
    "\n",
    "        w = ii[np.where(n == 1)]\n",
    "        idx = idx[w]\n",
    "        v = v[w]\n",
    "        p = p[w]\n",
    "        a = a[w]\n",
    "\n",
    "    return len(idx)\n"
   ]
  },
  {
   "cell_type": "code",
   "execution_count": 4,
   "id": "02f1ce99-6ff6-4230-acc0-c841156b0b96",
   "metadata": {},
   "outputs": [
    {
     "name": "stdout",
     "output_type": "stream",
     "text": [
      "*******\n",
      "Puzzle1\n",
      "*******\n",
      "\n",
      "Puzzle case\n",
      "-----------\n",
      "\n",
      "Particle closest to 0,0,0 in the long run is 364\n",
      "\n",
      "*******\n",
      "Puzzle2\n",
      "*******\n",
      "\n",
      "Test case\n",
      "---------\n",
      "\n",
      "1 particles remain\n",
      "\n",
      "Puzzle case\n",
      "-----------\n",
      "\n",
      "420 particles remain\n"
     ]
    }
   ],
   "source": [
    "print('*******\\nPuzzle1\\n*******\\n')\n",
    "\n",
    "print('Puzzle case\\n-----------\\n')\n",
    "\n",
    "res = find_closest_particle(read_input('input20.txt'))\n",
    "\n",
    "print(f'Particle closest to 0,0,0 in the long run is {res}')\n",
    "\n",
    "assert res == 364\n",
    "\n",
    "print('\\n*******\\nPuzzle2\\n*******\\n')\n",
    "\n",
    "print('Test case\\n---------\\n')\n",
    "\n",
    "res = eliminate(read_input('input20a.txt'))\n",
    "\n",
    "print(f'{res} particles remain')\n",
    "\n",
    "assert res == 1\n",
    "\n",
    "print('\\nPuzzle case\\n-----------\\n')\n",
    "\n",
    "res = eliminate(read_input('input20.txt'))\n",
    "\n",
    "print(f'{res} particles remain')\n",
    "\n",
    "assert res == 420\n"
   ]
  },
  {
   "cell_type": "code",
   "execution_count": null,
   "id": "dc8bc965-2c15-471c-8234-f57a65a864f2",
   "metadata": {},
   "outputs": [],
   "source": []
  }
 ],
 "metadata": {
  "kernelspec": {
   "display_name": "Python 3 (ipykernel)",
   "language": "python",
   "name": "python3"
  },
  "language_info": {
   "codemirror_mode": {
    "name": "ipython",
    "version": 3
   },
   "file_extension": ".py",
   "mimetype": "text/x-python",
   "name": "python",
   "nbconvert_exporter": "python",
   "pygments_lexer": "ipython3",
   "version": "3.11.4"
  }
 },
 "nbformat": 4,
 "nbformat_minor": 5
}
