{
 "cells": [
  {
   "cell_type": "code",
   "execution_count": 3,
   "id": "a9ee00fa-7910-4dff-9470-04021b0f16b3",
   "metadata": {},
   "outputs": [],
   "source": [
    "import re\n",
    "import math\n",
    "import numpy as np"
   ]
  },
  {
   "cell_type": "code",
   "execution_count": 4,
   "id": "3998b42f-e6a2-4fcf-af67-0da0cfac0f8d",
   "metadata": {},
   "outputs": [],
   "source": [
    "def read_input(infile):\n",
    "    particles = []\n",
    "    pidx = 0\n",
    "    with open(infile, 'r') as inf:\n",
    "        for line in inf.readlines():\n",
    "            m = (re.match(r'p=<(-?\\d+),(-?\\d+),(-?\\d+)>, v=<(-?\\d+),(-?\\d+),(-?\\d+)>, a=<(-?\\d+),(-?\\d+),(-?\\d+)>', line.strip()).groups())\n",
    "            particles.append([pidx] + [int(v) for v in m])\n",
    "            pidx += 1\n",
    "\n",
    "    return particles"
   ]
  },
  {
   "cell_type": "code",
   "execution_count": 57,
   "id": "da5c17b3-477b-4f2c-a51b-b526a14f95f9",
   "metadata": {},
   "outputs": [
    {
     "name": "stdout",
     "output_type": "stream",
     "text": [
      "420\n"
     ]
    }
   ],
   "source": [
    "def sorter(p):\n",
    "    return abs(p[7]) + abs(p[8]) + abs(p[9])\n",
    "\n",
    "def find_closest_particle(particles):\n",
    "    return sorted(particles, key=sorter)[0][0]\n",
    "\n",
    "def pos(p, i, t):\n",
    "    return p[1+i] + p[4+i]*t + 0.5*p[7+i]*t**2\n",
    "\n",
    "def eliminate(particles):\n",
    "\n",
    "    idx = []\n",
    "    p = []\n",
    "    v = []\n",
    "    a = []\n",
    "\n",
    "    for part in particles:\n",
    "        idx.append(part[0])\n",
    "        p.append(part[1:4])\n",
    "        v.append(part[4:7])\n",
    "        a.append(part[7:])\n",
    "\n",
    "    idx = np.array(idx, dtype=int)\n",
    "    p = np.array(p, dtype=int)\n",
    "    v = np.array(v, dtype=int)\n",
    "    a = np.array(a, dtype=int)\n",
    "\n",
    "    for _ in range(5000):\n",
    "\n",
    "        v += a\n",
    "        p += v\n",
    "\n",
    "        i, ii, inv, n = np.unique(p, axis=0, return_index=True, return_inverse=True, return_counts=True)\n",
    "\n",
    "        w = ii[np.where(n == 1)]\n",
    "        idx = idx[w]\n",
    "        v = v[w]\n",
    "        p = p[w]\n",
    "        a = a[w]\n",
    "\n",
    "    return len(idx)\n"
   ]
  },
  {
   "cell_type": "code",
   "execution_count": 58,
   "id": "02f1ce99-6ff6-4230-acc0-c841156b0b96",
   "metadata": {},
   "outputs": [
    {
     "name": "stdout",
     "output_type": "stream",
     "text": [
      "*******\n",
      "Puzzle1\n",
      "*******\n",
      "\n",
      "Puzzle case\n",
      "-----------\n",
      "\n",
      "Particle closest to 0,0,0 in the long run is 364\n",
      "\n",
      "*******\n",
      "Puzzle2\n",
      "*******\n",
      "\n",
      "Test case\n",
      "---------\n",
      "\n",
      "1\n",
      "None particles remain\n"
     ]
    },
    {
     "ename": "AssertionError",
     "evalue": "",
     "output_type": "error",
     "traceback": [
      "\u001b[0;31m---------------------------------------------------------------------------\u001b[0m",
      "\u001b[0;31mAssertionError\u001b[0m                            Traceback (most recent call last)",
      "Cell \u001b[0;32mIn[58], line 19\u001b[0m\n\u001b[1;32m     15\u001b[0m res \u001b[38;5;241m=\u001b[39m eliminate(read_input(\u001b[38;5;124m'\u001b[39m\u001b[38;5;124minput20a.txt\u001b[39m\u001b[38;5;124m'\u001b[39m))\n\u001b[1;32m     17\u001b[0m \u001b[38;5;28mprint\u001b[39m(\u001b[38;5;124mf\u001b[39m\u001b[38;5;124m'\u001b[39m\u001b[38;5;132;01m{\u001b[39;00mres\u001b[38;5;132;01m}\u001b[39;00m\u001b[38;5;124m particles remain\u001b[39m\u001b[38;5;124m'\u001b[39m)\n\u001b[0;32m---> 19\u001b[0m \u001b[38;5;28;01massert\u001b[39;00m res \u001b[38;5;241m==\u001b[39m \u001b[38;5;241m1\u001b[39m\n\u001b[1;32m     21\u001b[0m \u001b[38;5;28mprint\u001b[39m(\u001b[38;5;124m'\u001b[39m\u001b[38;5;130;01m\\n\u001b[39;00m\u001b[38;5;124mPuzzle case\u001b[39m\u001b[38;5;130;01m\\n\u001b[39;00m\u001b[38;5;124m-----------\u001b[39m\u001b[38;5;130;01m\\n\u001b[39;00m\u001b[38;5;124m'\u001b[39m)\n\u001b[1;32m     23\u001b[0m res \u001b[38;5;241m=\u001b[39m eliminate(read_input(\u001b[38;5;124m'\u001b[39m\u001b[38;5;124minput20.txt\u001b[39m\u001b[38;5;124m'\u001b[39m))\n",
      "\u001b[0;31mAssertionError\u001b[0m: "
     ]
    }
   ],
   "source": [
    "print('*******\\nPuzzle1\\n*******\\n')\n",
    "\n",
    "print('Puzzle case\\n-----------\\n')\n",
    "\n",
    "res = find_closest_particle(read_input('input20.txt'))\n",
    "\n",
    "print(f'Particle closest to 0,0,0 in the long run is {res}')\n",
    "\n",
    "assert res == 364\n",
    "\n",
    "print('\\n*******\\nPuzzle2\\n*******\\n')\n",
    "\n",
    "print('Test case\\n---------\\n')\n",
    "\n",
    "res = eliminate(read_input('input20a.txt'))\n",
    "\n",
    "print(f'{res} particles remain')\n",
    "\n",
    "assert res == 1\n",
    "\n",
    "print('\\nPuzzle case\\n-----------\\n')\n",
    "\n",
    "res = eliminate(read_input('input20.txt'))\n",
    "\n",
    "print(f'{res} particles remain')\n",
    "\n",
    "assert res == 420\n"
   ]
  },
  {
   "cell_type": "code",
   "execution_count": 17,
   "id": "478feba0-3d74-4ece-85c6-781180f497c6",
   "metadata": {},
   "outputs": [
    {
     "data": {
      "text/plain": [
       "0"
      ]
     },
     "execution_count": 17,
     "metadata": {},
     "output_type": "execute_result"
    }
   ],
   "source": [
    "3*2 -6"
   ]
  },
  {
   "cell_type": "markdown",
   "id": "abf75deb-d019-4f7e-a207-0d4c4bb5e651",
   "metadata": {},
   "source": [
    "x2 + v2*t + 0.5*a2*t**2 = x1 + v1*t + 0.5*a1*t**2\n",
    "0.5*a1*t**2 - 0.5*a2*t**2 = x2 - x1 + v2*t - v1*t\n",
    "t**2*0.5*(a1-a2) = t*(v2-v1)\n",
    "t = 2* (v2-v1) / (a1-a2)\n"
   ]
  },
  {
   "cell_type": "code",
   "execution_count": null,
   "id": "7e917e0d-4b3c-4d1a-9b81-409002900aa3",
   "metadata": {},
   "outputs": [],
   "source": [
    "2* (2-3) / "
   ]
  },
  {
   "cell_type": "markdown",
   "id": "bd575121-d73c-4dba-a4bd-45ba88d4c1e9",
   "metadata": {},
   "source": [
    "(x2-x1) + (v2-v1)*t + 0.5*(a2-a1)*t**2 = 0\n",
    "(-(v2-v1) +- sqrt((v2-v1)**2-2*(a2-a1)*(x2-x1))) / 2*(a2-a1) = t\n",
    "\n",
    "x2+v2*t = x1+v1*t\n",
    "(x2-x1) = (v1-v2)*t\n",
    "(x2-x1)/(v1-v2) = t"
   ]
  },
  {
   "cell_type": "code",
   "execution_count": 21,
   "id": "3893c3e7-ca43-42ac-854b-bf299aca85b0",
   "metadata": {},
   "outputs": [
    {
     "data": {
      "text/plain": [
       "2.0"
      ]
     },
     "execution_count": 21,
     "metadata": {},
     "output_type": "execute_result"
    }
   ],
   "source": [
    "(-4+6)/(3-2)"
   ]
  },
  {
   "cell_type": "code",
   "execution_count": 10,
   "id": "e8b8f27a-e3ad-4df4-a92e-059550f10604",
   "metadata": {},
   "outputs": [
    {
     "name": "stdout",
     "output_type": "stream",
     "text": [
      "[[1 1 1]\n",
      " [2 2 2]]\n",
      "[[3 4 5]\n",
      " [6 7 8]]\n",
      "[[ 4  5  6]\n",
      " [ 8  9 10]]\n"
     ]
    }
   ],
   "source": [
    "a = np.array([[1,1,1], [2,2,2]], dtype=int)\n",
    "b = np.array([[3,4,5], [6,7,8]], dtype=int)\n",
    "\n",
    "print(a)\n",
    "print(b)\n",
    "print(a+b)"
   ]
  },
  {
   "cell_type": "code",
   "execution_count": null,
   "id": "dc8bc965-2c15-471c-8234-f57a65a864f2",
   "metadata": {},
   "outputs": [],
   "source": []
  }
 ],
 "metadata": {
  "kernelspec": {
   "display_name": "Python 3 (ipykernel)",
   "language": "python",
   "name": "python3"
  },
  "language_info": {
   "codemirror_mode": {
    "name": "ipython",
    "version": 3
   },
   "file_extension": ".py",
   "mimetype": "text/x-python",
   "name": "python",
   "nbconvert_exporter": "python",
   "pygments_lexer": "ipython3",
   "version": "3.11.4"
  }
 },
 "nbformat": 4,
 "nbformat_minor": 5
}
