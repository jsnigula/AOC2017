{
 "cells": [
  {
   "cell_type": "code",
   "execution_count": null,
   "id": "a9ee00fa-7910-4dff-9470-04021b0f16b3",
   "metadata": {},
   "outputs": [],
   "source": []
  },
  {
   "cell_type": "code",
   "execution_count": 1,
   "id": "3998b42f-e6a2-4fcf-af67-0da0cfac0f8d",
   "metadata": {},
   "outputs": [],
   "source": [
    "def read_input(infile):\n",
    "    with open(infile, 'r') as inf:\n",
    "        return inf.readline().strip()"
   ]
  },
  {
   "cell_type": "code",
   "execution_count": 2,
   "id": "da5c17b3-477b-4f2c-a51b-b526a14f95f9",
   "metadata": {},
   "outputs": [],
   "source": [
    "def calc_score(inp):\n",
    "    score = 0\n",
    "    level = 0\n",
    "    ignore = False\n",
    "    garbage = False\n",
    "    n_garbage = 0\n",
    "    for c in inp:\n",
    "        if ignore:\n",
    "            ignore = False\n",
    "            continue\n",
    "        if c == '!':\n",
    "            ignore  = True\n",
    "            continue\n",
    "        if c == '<':\n",
    "            if garbage:\n",
    "                n_garbage += 1\n",
    "            garbage = True\n",
    "            continue\n",
    "        if c == '>':\n",
    "            garbage = False\n",
    "            continue\n",
    "        if garbage:\n",
    "            n_garbage += 1\n",
    "            continue\n",
    "        if c == '{':\n",
    "            level += 1\n",
    "            score += level\n",
    "        elif c == '}':\n",
    "            level -= 1\n",
    "    return score, n_garbage"
   ]
  },
  {
   "cell_type": "code",
   "execution_count": 4,
   "id": "02f1ce99-6ff6-4230-acc0-c841156b0b96",
   "metadata": {},
   "outputs": [
    {
     "name": "stdout",
     "output_type": "stream",
     "text": [
      "*******\n",
      "Puzzle1\n",
      "*******\n",
      "\n",
      "Puzzle case\n",
      "-----------\n",
      "\n",
      "Score is 12803\n",
      "\n",
      "*******\n",
      "Puzzle2\n",
      "*******\n",
      "\n",
      "Puzzle case\n",
      "-----------\n",
      "\n",
      "Score is 6425\n"
     ]
    }
   ],
   "source": [
    "print('*******\\nPuzzle1\\n*******\\n')\n",
    "\n",
    "print('Puzzle case\\n-----------\\n')\n",
    "\n",
    "res, _ = calc_score(read_input('input09.txt'))\n",
    "\n",
    "print(f'Score is {res}')\n",
    "\n",
    "assert res == 12803 \n",
    "\n",
    "print('\\n*******\\nPuzzle2\\n*******\\n')\n",
    "\n",
    "print('Puzzle case\\n-----------\\n')\n",
    "\n",
    "_, res = calc_score(read_input('input09.txt'))\n",
    "\n",
    "print(f'Score is {res}')\n",
    "\n",
    "assert res == 6425"
   ]
  },
  {
   "cell_type": "code",
   "execution_count": null,
   "id": "478feba0-3d74-4ece-85c6-781180f497c6",
   "metadata": {},
   "outputs": [],
   "source": []
  }
 ],
 "metadata": {
  "kernelspec": {
   "display_name": "Python 3 (ipykernel)",
   "language": "python",
   "name": "python3"
  },
  "language_info": {
   "codemirror_mode": {
    "name": "ipython",
    "version": 3
   },
   "file_extension": ".py",
   "mimetype": "text/x-python",
   "name": "python",
   "nbconvert_exporter": "python",
   "pygments_lexer": "ipython3",
   "version": "3.11.4"
  }
 },
 "nbformat": 4,
 "nbformat_minor": 5
}
