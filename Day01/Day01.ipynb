{
 "cells": [
  {
   "cell_type": "code",
   "execution_count": 5,
   "id": "3998b42f-e6a2-4fcf-af67-0da0cfac0f8d",
   "metadata": {},
   "outputs": [],
   "source": [
    "def read_input(infile):\n",
    "    with open(infile, 'r') as inf:\n",
    "        return inf.readline().strip()"
   ]
  },
  {
   "cell_type": "code",
   "execution_count": 27,
   "id": "da5c17b3-477b-4f2c-a51b-b526a14f95f9",
   "metadata": {},
   "outputs": [],
   "source": [
    "def solve_captcha(captcha):\n",
    "\n",
    "    digits = [int(c) for c in captcha]\n",
    "\n",
    "    digits += [digits[0]]\n",
    "\n",
    "    s = 0\n",
    "    for d in range(0, len(digits)-1):\n",
    "        if digits[d] == digits[d+1]:\n",
    "            s += digits[d]\n",
    "\n",
    "    return s\n",
    "\n",
    "def solve_captcha2(captcha):\n",
    "\n",
    "    digits = [int(c) for c in captcha]\n",
    "    offset = len(digits)/2\n",
    "\n",
    "    s = 0\n",
    "    for d in range(0, len(digits)):\n",
    "        if digits[d] == digits[int((d+offset)%len(digits))]:\n",
    "            s += digits[d]\n",
    "\n",
    "    return s"
   ]
  },
  {
   "cell_type": "code",
   "execution_count": 30,
   "id": "02f1ce99-6ff6-4230-acc0-c841156b0b96",
   "metadata": {},
   "outputs": [
    {
     "name": "stdout",
     "output_type": "stream",
     "text": [
      "*******\n",
      "Puzzle1\n",
      "*******\n",
      "\n",
      "Test case\n",
      "---------\n",
      "\n",
      "Test cases passed!\n",
      "\n",
      "Puzzle case\n",
      "-----------\n",
      "\n",
      "Sum is 1047\n",
      "\n",
      "*******\n",
      "Puzzle2\n",
      "*******\n",
      "\n",
      "Test case\n",
      "---------\n",
      "\n",
      "Test cases passed!\n",
      "\n",
      "Puzzle case\n",
      "-----------\n",
      "\n",
      "Sum is is 982\n"
     ]
    }
   ],
   "source": [
    "print('*******\\nPuzzle1\\n*******\\n')\n",
    "\n",
    "print('Test case\\n---------\\n')\n",
    "\n",
    "assert solve_captcha('1122') == 3\n",
    "\n",
    "assert solve_captcha('1111') == 4\n",
    "\n",
    "assert solve_captcha('1234') == 0\n",
    "\n",
    "assert solve_captcha('91212129') == 9\n",
    "\n",
    "print('Test cases passed!')\n",
    "\n",
    "print('\\nPuzzle case\\n-----------\\n')\n",
    "\n",
    "res = solve_captcha(read_input('input01.txt'))\n",
    "\n",
    "print(f'Sum is {res}')\n",
    "\n",
    "assert res == 1047\n",
    "\n",
    "print('\\n*******\\nPuzzle2\\n*******\\n')\n",
    "\n",
    "print('Test case\\n---------\\n')\n",
    "\n",
    "assert solve_captcha2('1212') == 6\n",
    "\n",
    "assert solve_captcha2('1221') == 0\n",
    "\n",
    "assert solve_captcha2('123425') == 4\n",
    "\n",
    "assert solve_captcha2('123123') == 12\n",
    "\n",
    "assert solve_captcha2('12131415') == 4\n",
    "\n",
    "print('Test cases passed!')\n",
    "\n",
    "print('\\nPuzzle case\\n-----------\\n')\n",
    "\n",
    "res = solve_captcha2(read_input('input01.txt'))\n",
    "\n",
    "print(f'Sum is is {res}')\n",
    "\n",
    "assert res == 982\n"
   ]
  },
  {
   "cell_type": "code",
   "execution_count": null,
   "id": "3e33ea7f-f52b-4dd4-bef1-633cd56fc135",
   "metadata": {},
   "outputs": [],
   "source": []
  }
 ],
 "metadata": {
  "kernelspec": {
   "display_name": "Python 3 (ipykernel)",
   "language": "python",
   "name": "python3"
  },
  "language_info": {
   "codemirror_mode": {
    "name": "ipython",
    "version": 3
   },
   "file_extension": ".py",
   "mimetype": "text/x-python",
   "name": "python",
   "nbconvert_exporter": "python",
   "pygments_lexer": "ipython3",
   "version": "3.10.4"
  }
 },
 "nbformat": 4,
 "nbformat_minor": 5
}
