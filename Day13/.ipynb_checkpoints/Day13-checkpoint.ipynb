{
 "cells": [
  {
   "cell_type": "code",
   "execution_count": 72,
   "id": "3998b42f-e6a2-4fcf-af67-0da0cfac0f8d",
   "metadata": {},
   "outputs": [],
   "source": [
    "def read_input(infile):\n",
    "    scanners = {}\n",
    "    with open(infile, 'r') as inf:\n",
    "        for line in inf.readlines():\n",
    "            k, v = line.strip().split(':')\n",
    "            scanners[int(k)] = int(v)\n",
    "    return scanners"
   ]
  },
  {
   "cell_type": "code",
   "execution_count": 73,
   "id": "da5c17b3-477b-4f2c-a51b-b526a14f95f9",
   "metadata": {},
   "outputs": [],
   "source": [
    "def calc_severity(start, scanners, fail=False):\n",
    "    s = 0\n",
    "    for d, r in scanners.items():\n",
    "        if (d+start)%(r+(r-2)) == 0:\n",
    "            if fail:\n",
    "                return 1\n",
    "            s += (d)*(r)\n",
    "    return s\n",
    "\n",
    "def find_path(scanners):\n",
    "    delay = 0\n",
    "    while True :\n",
    "        if calc_severity(delay, scanners, True) == 0:\n",
    "            return delay\n",
    "\n",
    "        delay += 1\n"
   ]
  },
  {
   "cell_type": "code",
   "execution_count": 74,
   "id": "02f1ce99-6ff6-4230-acc0-c841156b0b96",
   "metadata": {},
   "outputs": [
    {
     "name": "stdout",
     "output_type": "stream",
     "text": [
      "*******\n",
      "Puzzle1\n",
      "*******\n",
      "\n",
      "Test case\n",
      "---------\n",
      "\n",
      "Severity is 24\n",
      "\n",
      "Puzzle case\n",
      "-----------\n",
      "\n",
      "Severity is 1528\n",
      "\n",
      "*******\n",
      "Puzzle2\n",
      "*******\n",
      "\n",
      "Test case\n",
      "---------\n",
      "\n",
      "Delay is 10\n",
      "\n",
      "Puzzle case\n",
      "-----------\n",
      "\n",
      "Delay is 3896406\n"
     ]
    }
   ],
   "source": [
    "print('*******\\nPuzzle1\\n*******\\n')\n",
    "\n",
    "print('Test case\\n---------\\n')\n",
    "\n",
    "res = calc_severity(0, read_input('input13a.txt'))\n",
    "\n",
    "print(f'Severity is {res}')\n",
    "\n",
    "assert res == 24\n",
    "\n",
    "print('\\nPuzzle case\\n-----------\\n')\n",
    "\n",
    "res = calc_severity(0, read_input('input13.txt'))\n",
    "\n",
    "print(f'Severity is {res}')\n",
    "\n",
    "assert res == 1528\n",
    "\n",
    "print('\\n*******\\nPuzzle2\\n*******\\n')\n",
    "\n",
    "print('Test case\\n---------\\n')\n",
    "\n",
    "res = find_path(read_input('input13a.txt'))\n",
    "\n",
    "print(f'Delay is {res}')\n",
    "\n",
    "assert res == 10\n",
    "\n",
    "print('\\nPuzzle case\\n-----------\\n')\n",
    "\n",
    "res = find_path(read_input('input13.txt'))\n",
    "\n",
    "print(f'Delay is {res}')\n",
    "\n",
    "assert res == 3896406\n"
   ]
  },
  {
   "cell_type": "code",
   "execution_count": null,
   "id": "478feba0-3d74-4ece-85c6-781180f497c6",
   "metadata": {},
   "outputs": [],
   "source": []
  }
 ],
 "metadata": {
  "kernelspec": {
   "display_name": "Python 3 (ipykernel)",
   "language": "python",
   "name": "python3"
  },
  "language_info": {
   "codemirror_mode": {
    "name": "ipython",
    "version": 3
   },
   "file_extension": ".py",
   "mimetype": "text/x-python",
   "name": "python",
   "nbconvert_exporter": "python",
   "pygments_lexer": "ipython3",
   "version": "3.11.4"
  }
 },
 "nbformat": 4,
 "nbformat_minor": 5
}
