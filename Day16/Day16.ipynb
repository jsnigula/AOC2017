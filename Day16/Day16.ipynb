{
 "cells": [
  {
   "cell_type": "code",
   "execution_count": 56,
   "id": "3998b42f-e6a2-4fcf-af67-0da0cfac0f8d",
   "metadata": {},
   "outputs": [],
   "source": [
    "def read_input(infile):\n",
    "    with open(infile, 'r') as inf:\n",
    "        return inf.readline().strip().split(',')"
   ]
  },
  {
   "cell_type": "code",
   "execution_count": 59,
   "id": "13ff305f-8108-4613-a7f0-f8665d607393",
   "metadata": {},
   "outputs": [],
   "source": [
    "def dance(data, instructions):\n",
    "    for i in instructions:\n",
    "        # print(data)\n",
    "        if i[0] == 's':\n",
    "            n = int(i[1:])\n",
    "            data = data[-n:] + data[:-n]\n",
    "        elif i[0] == 'x':\n",
    "            a, b = i[1:].split('/')\n",
    "            v1 = data[int(a)]\n",
    "            v2 = data[int(b)]\n",
    "            data[int(a)] = v2\n",
    "            data[int(b)] = v1\n",
    "        else:\n",
    "            p1, p2 = i[1:].split('/')\n",
    "            a, b = data.index(p1), data.index(p2)\n",
    "            data[a] = p2\n",
    "            data[b] = p1\n",
    "    return data\n",
    "\n",
    "def prettyprint(data):\n",
    "    return ''.join(data)\n",
    "\n",
    "def dance_often(data, instructions):\n",
    "    seen = [tuple(data)]\n",
    "\n",
    "    for i in range(1000000000):\n",
    "        data = dance(data, instructions)\n",
    "        if tuple(data) in seen:\n",
    "            return seen[1000000000 % len(seen)]\n",
    "        seen.append(tuple(data))\n",
    "\n",
    "def get_data(n):\n",
    "    s = ord('a')\n",
    "    return [chr(s+i) for i in range(n)]\n",
    "\n"
   ]
  },
  {
   "cell_type": "code",
   "execution_count": 60,
   "id": "02f1ce99-6ff6-4230-acc0-c841156b0b96",
   "metadata": {},
   "outputs": [
    {
     "name": "stdout",
     "output_type": "stream",
     "text": [
      "*******\n",
      "Puzzle1\n",
      "*******\n",
      "\n",
      "Test case\n",
      "---------\n",
      "\n",
      "Result is baedc\n",
      "\n",
      "Puzzle case\n",
      "-----------\n",
      "\n",
      "Result is pkgnhomelfdibjac\n",
      "\n",
      "*******\n",
      "Puzzle2\n",
      "*******\n",
      "\n",
      "Test case\n",
      "---------\n",
      "\n",
      "Result is abcde\n",
      "\n",
      "Puzzle case\n",
      "-----------\n",
      "\n",
      "Result is pogbjfihclkemadn\n"
     ]
    }
   ],
   "source": [
    "print('*******\\nPuzzle1\\n*******\\n')\n",
    "\n",
    "print('Test case\\n---------\\n')\n",
    "\n",
    "res = prettyprint(dance(get_data(5), read_input('input16a.txt')))\n",
    "\n",
    "print(f'Result is {res}')\n",
    "\n",
    "assert res == 'baedc'\n",
    "\n",
    "print('\\nPuzzle case\\n-----------\\n')\n",
    "\n",
    "res = prettyprint(dance(get_data(16), read_input('input16.txt')))\n",
    "\n",
    "print(f'Result is {res}')\n",
    "\n",
    "assert res == 'pkgnhomelfdibjac'\n",
    "\n",
    "print('\\n*******\\nPuzzle2\\n*******\\n')\n",
    "\n",
    "print('Test case\\n---------\\n')\n",
    "\n",
    "res = prettyprint(dance_often(get_data(5), read_input('input16a.txt')))\n",
    "\n",
    "print(f'Result is {res}')\n",
    "\n",
    "assert res == 'abcde'\n",
    "\n",
    "print('\\nPuzzle case\\n-----------\\n')\n",
    "\n",
    "res = prettyprint(dance_often(get_data(16), read_input('input16.txt')))\n",
    "\n",
    "print(f'Result is {res}')\n",
    "\n",
    "assert res == 'pogbjfihclkemadn'\n"
   ]
  },
  {
   "cell_type": "code",
   "execution_count": null,
   "id": "478feba0-3d74-4ece-85c6-781180f497c6",
   "metadata": {},
   "outputs": [],
   "source": []
  }
 ],
 "metadata": {
  "kernelspec": {
   "display_name": "Python 3 (ipykernel)",
   "language": "python",
   "name": "python3"
  },
  "language_info": {
   "codemirror_mode": {
    "name": "ipython",
    "version": 3
   },
   "file_extension": ".py",
   "mimetype": "text/x-python",
   "name": "python",
   "nbconvert_exporter": "python",
   "pygments_lexer": "ipython3",
   "version": "3.11.4"
  }
 },
 "nbformat": 4,
 "nbformat_minor": 5
}
