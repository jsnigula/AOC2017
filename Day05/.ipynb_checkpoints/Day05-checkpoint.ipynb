{
 "cells": [
  {
   "cell_type": "code",
   "execution_count": 1,
   "id": "3998b42f-e6a2-4fcf-af67-0da0cfac0f8d",
   "metadata": {},
   "outputs": [],
   "source": [
    "def read_input(infile):\n",
    "    instructions = []\n",
    "    with open(infile, 'r') as inf:\n",
    "        for line in inf.readlines():\n",
    "            instructions.append(int(line))\n",
    "    return instructions"
   ]
  },
  {
   "cell_type": "code",
   "execution_count": 2,
   "id": "da5c17b3-477b-4f2c-a51b-b526a14f95f9",
   "metadata": {},
   "outputs": [],
   "source": [
    "def find_exit(instructions):\n",
    "    n_ins = len(instructions)\n",
    "    idx = 0\n",
    "    n_steps = 0\n",
    "    while True:\n",
    "        # print(idx, instructions)\n",
    "        next_idx = idx + instructions[idx]\n",
    "        instructions[idx] += 1\n",
    "        n_steps += 1\n",
    "        if next_idx < 0 or next_idx >= n_ins:\n",
    "            break\n",
    "        idx = next_idx\n",
    "    return n_steps\n",
    "\n",
    "def find_exit2(instructions):\n",
    "    n_ins = len(instructions)\n",
    "    idx = 0\n",
    "    n_steps = 0\n",
    "    while True:\n",
    "        # print(idx, instructions)\n",
    "        jmp = instructions[idx]\n",
    "        next_idx = idx + jmp\n",
    "        if jmp > 2:\n",
    "            instructions[idx] -= 1\n",
    "        else:\n",
    "            instructions[idx] += 1\n",
    "        n_steps += 1\n",
    "        if next_idx < 0 or next_idx >= n_ins:\n",
    "            break\n",
    "        idx = next_idx\n",
    "    return n_steps"
   ]
  },
  {
   "cell_type": "code",
   "execution_count": 3,
   "id": "02f1ce99-6ff6-4230-acc0-c841156b0b96",
   "metadata": {},
   "outputs": [
    {
     "name": "stdout",
     "output_type": "stream",
     "text": [
      "*******\n",
      "Puzzle1\n",
      "*******\n",
      "\n",
      "Test case\n",
      "---------\n",
      "\n",
      "Exit found after 5 steps\n",
      "\n",
      "Puzzle case\n",
      "-----------\n",
      "\n",
      "Exit found after 343467 steps\n",
      "\n",
      "*******\n",
      "Puzzle2\n",
      "*******\n",
      "\n",
      "Test case\n",
      "---------\n",
      "\n",
      "Exit found after 10 steps\n",
      "\n",
      "Puzzle case\n",
      "-----------\n",
      "\n",
      "Exit found after 24774780 steps\n"
     ]
    }
   ],
   "source": [
    "print('*******\\nPuzzle1\\n*******\\n')\n",
    "\n",
    "print('Test case\\n---------\\n')\n",
    "\n",
    "res = find_exit(read_input('input05a.txt'))\n",
    "\n",
    "print(f'Exit found after {res} steps')\n",
    "\n",
    "assert res == 5\n",
    "\n",
    "print('\\nPuzzle case\\n-----------\\n')\n",
    "\n",
    "res = find_exit(read_input('input05.txt'))\n",
    "\n",
    "print(f'Exit found after {res} steps')\n",
    "\n",
    "assert res == 343467\n",
    "\n",
    "print('\\n*******\\nPuzzle2\\n*******\\n')\n",
    "\n",
    "print('Test case\\n---------\\n')\n",
    "\n",
    "res = find_exit2(read_input('input05a.txt'))\n",
    "\n",
    "print(f'Exit found after {res} steps')\n",
    "\n",
    "assert res == 10\n",
    "\n",
    "print('\\nPuzzle case\\n-----------\\n')\n",
    "\n",
    "res = find_exit2(read_input('input05.txt'))\n",
    "\n",
    "print(f'Exit found after {res} steps')\n",
    "\n",
    "assert res == 24774780\n",
    "\n"
   ]
  },
  {
   "cell_type": "code",
   "execution_count": null,
   "id": "478feba0-3d74-4ece-85c6-781180f497c6",
   "metadata": {},
   "outputs": [],
   "source": []
  }
 ],
 "metadata": {
  "kernelspec": {
   "display_name": "Python 3 (ipykernel)",
   "language": "python",
   "name": "python3"
  },
  "language_info": {
   "codemirror_mode": {
    "name": "ipython",
    "version": 3
   },
   "file_extension": ".py",
   "mimetype": "text/x-python",
   "name": "python",
   "nbconvert_exporter": "python",
   "pygments_lexer": "ipython3",
   "version": "3.10.4"
  }
 },
 "nbformat": 4,
 "nbformat_minor": 5
}
