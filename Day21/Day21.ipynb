{
 "cells": [
  {
   "cell_type": "code",
   "execution_count": 181,
   "id": "a9ee00fa-7910-4dff-9470-04021b0f16b3",
   "metadata": {},
   "outputs": [],
   "source": [
    "import numpy as np\n",
    "from pprint import pprint"
   ]
  },
  {
   "cell_type": "code",
   "execution_count": 205,
   "id": "3998b42f-e6a2-4fcf-af67-0da0cfac0f8d",
   "metadata": {},
   "outputs": [],
   "source": [
    "def read_input(infile):\n",
    "    patterns = {}\n",
    "    with open(infile, 'r') as inf:\n",
    "        for line in inf.readlines():\n",
    "            p_in, pout =  line.strip().split(' => ')\n",
    "            p_out = []\n",
    "            for p in pout.split('/'):\n",
    "                p_out.append([c for c in p])\n",
    "            p_out=np.array(p_out)\n",
    "\n",
    "            if len(p_in) == 5:\n",
    "                # Rotate\n",
    "                p1, p2 = p_in.split('/')\n",
    "                # 0 deg + flips\n",
    "                patterns[p_in] = p_out\n",
    "                patterns[p1[::-1]+'/'+p2[::-1]] = p_out  # vertical\n",
    "                patterns[p2+'/'+p1] = p_out  # horizontal\n",
    "\n",
    "                # 90 deg cw\n",
    "                patterns[p2[0]+p1[0]+'/'+p2[1]+p1[1]] = p_out\n",
    "                patterns[p1[0]+p2[0]+'/'+p1[1]+p2[1]] = p_out  # vertical\n",
    "                patterns[p2[1]+p1[1]+'/'+p2[0]+p1[0]] = p_out  # horizontal\n",
    "                \n",
    "                # 180 deg + flips\n",
    "                patterns[p2[::-1]+'/'+p1[::-1]] = p_out\n",
    " \n",
    "                # 270 deg + flips\n",
    "                patterns[p1[1]+p2[1]+'/'+p1[0]+p2[0]] = p_out\n",
    "                patterns[p2[1]+p1[1]+'/'+p2[0]+p1[0]] = p_out  # vertical\n",
    "                patterns[p1[0]+p2[0]+'/'+p1[1]+p2[1]] = p_out  # horizontal\n",
    "\n",
    "            if len(p_in) == 11:\n",
    "                # Rotate\n",
    "                p1, p2, p3 = p_in.split('/')\n",
    "                # 0 deg + flips\n",
    "                patterns[p_in] = p_out\n",
    "                patterns[p1[::-1]+'/'+p2[::-1]+'/'+p3[::-1]] = p_out  # vertical\n",
    "                patterns[p3+'/'+p2+'/'+p1] = p_out  # horizontal\n",
    "\n",
    "                # 90 deg cw\n",
    "                patterns[p3[0]+p2[0]+p1[0]+'/'+p3[1]+p2[1]+p1[1]+'/'+p3[2]+p2[2]+p1[2]] = p_out\n",
    "                patterns[p1[0]+p2[0]+p3[0]+'/'+p1[1]+p2[1]+p3[1]+'/'+p1[2]+p2[2]+p3[2]] = p_out  # vertical\n",
    "                patterns[p3[2]+p2[2]+p1[2]+'/'+p3[1]+p2[1]+p1[1]+'/'+p3[0]+p2[0]+p1[0]] = p_out  # horizontal\n",
    "                \n",
    "                # 180 deg cw\n",
    "                patterns[p3[::-1]+'/'+p2[::-1]+'/'+p1[::-1]] = p_out\n",
    "\n",
    "                # 270 deg cw\n",
    "                patterns[p1[2]+p2[2]+p3[2]+'/'+p1[1]+p2[1]+p3[1]+'/'+p1[0]+p2[0]+p3[0]] = p_out\n",
    "                patterns[p3[2]+p2[2]+p1[2]+'/'+p3[1]+p2[1]+p1[1]+'/'+p3[0]+p2[0]+p1[0]] = p_out  # vertical\n",
    "                patterns[p1[0]+p2[0]+p3[0]+'/'+p1[1]+p2[1]+p3[1]+'/'+p1[2]+p2[2]+p3[2]] = p_out  # horizontal\n",
    "            \n",
    "    return patterns\n",
    "\n",
    "def enhance(patterns, n):\n",
    "\n",
    "    grid = np.array([['.', '#', '.'], ['.', '.', '#'], ['#', '#', '#']])\n",
    "\n",
    "    for _ in range(n):\n",
    "        l = 3\n",
    "        if grid.shape[0] % 2 == 0:\n",
    "            l = 2\n",
    "\n",
    "        nextgrid=np.empty((grid.shape[0]//l*(l+1), grid.shape[1]//l*(l+1)), dtype=grid.dtype)\n",
    "                        \n",
    "        for i in range(grid.shape[0] // l):\n",
    "            for j in range(grid.shape[1] // l):\n",
    "    \n",
    "                sg = grid[i*l:l*(i+1),j*l:l*(j+1)]\n",
    "                p = ''\n",
    "                for s in sg[:,]:\n",
    "                    p += ''.join(list(s)) + '/'\n",
    "                p = p[:-1]\n",
    "\n",
    "                nextgrid[i*(l+1):(l+1)*(i+1),j*(l+1):(l+1)*(j+1)] = patterns[p]\n",
    "\n",
    "        grid = nextgrid\n",
    "\n",
    "    return len(np.argwhere(grid == '#'))"
   ]
  },
  {
   "cell_type": "code",
   "execution_count": 206,
   "id": "da5c17b3-477b-4f2c-a51b-b526a14f95f9",
   "metadata": {},
   "outputs": [
    {
     "data": {
      "text/plain": [
       "1277716"
      ]
     },
     "execution_count": 206,
     "metadata": {},
     "output_type": "execute_result"
    }
   ],
   "source": [
    "enhance(read_input('input21.txt'),18)"
   ]
  },
  {
   "cell_type": "code",
   "execution_count": 208,
   "id": "02f1ce99-6ff6-4230-acc0-c841156b0b96",
   "metadata": {},
   "outputs": [
    {
     "name": "stdout",
     "output_type": "stream",
     "text": [
      "*******\n",
      "Puzzle1\n",
      "*******\n",
      "\n",
      "Test case\n",
      "---------\n",
      "\n",
      "After 2 iterations 12 pixels are on\n",
      "\n",
      "Puzzle case\n",
      "-----------\n",
      "\n",
      "After 5 iterations  is 110 pixels are on\n",
      "\n",
      "*******\n",
      "Puzzle2\n",
      "*******\n",
      "\n",
      "Puzzle case\n",
      "-----------\n",
      "\n",
      "After 18 iterations 1277716 pixels are on\n"
     ]
    }
   ],
   "source": [
    "print('*******\\nPuzzle1\\n*******\\n')\n",
    "\n",
    "print('Test case\\n---------\\n')\n",
    "\n",
    "res = enhance(read_input('input21a.txt'),2)\n",
    "\n",
    "print(f'After 2 iterations {res} pixels are on')\n",
    "\n",
    "assert res == 12\n",
    "\n",
    "print('\\nPuzzle case\\n-----------\\n')\n",
    "\n",
    "res = enhance(read_input('input21.txt'),5)\n",
    "\n",
    "print(f'After 5 iterations  is {res} pixels are on')\n",
    "\n",
    "assert res == 110\n",
    "\n",
    "print('\\n*******\\nPuzzle2\\n*******\\n')\n",
    "\n",
    "print('Puzzle case\\n-----------\\n')\n",
    "\n",
    "res = enhance(read_input('input21.txt'),18)\n",
    "\n",
    "print(f'After 18 iterations {res} pixels are on')\n",
    "\n",
    "assert res == 1277716\n"
   ]
  },
  {
   "cell_type": "code",
   "execution_count": null,
   "id": "c70d8300-477f-4cd9-9cee-6f591e763f00",
   "metadata": {},
   "outputs": [],
   "source": []
  }
 ],
 "metadata": {
  "kernelspec": {
   "display_name": "Python 3 (ipykernel)",
   "language": "python",
   "name": "python3"
  },
  "language_info": {
   "codemirror_mode": {
    "name": "ipython",
    "version": 3
   },
   "file_extension": ".py",
   "mimetype": "text/x-python",
   "name": "python",
   "nbconvert_exporter": "python",
   "pygments_lexer": "ipython3",
   "version": "3.11.4"
  }
 },
 "nbformat": 4,
 "nbformat_minor": 5
}
