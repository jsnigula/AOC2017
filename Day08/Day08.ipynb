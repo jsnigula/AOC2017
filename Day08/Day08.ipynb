{
 "cells": [
  {
   "cell_type": "code",
   "execution_count": 1,
   "id": "a9ee00fa-7910-4dff-9470-04021b0f16b3",
   "metadata": {},
   "outputs": [],
   "source": [
    "from collections import defaultdict\n",
    "import operator as op"
   ]
  },
  {
   "cell_type": "code",
   "execution_count": 2,
   "id": "3998b42f-e6a2-4fcf-af67-0da0cfac0f8d",
   "metadata": {},
   "outputs": [
    {
     "data": {
      "text/plain": [
       "(5849, 6702)"
      ]
     },
     "execution_count": 2,
     "metadata": {},
     "output_type": "execute_result"
    }
   ],
   "source": [
    "def read_input(infile):\n",
    "    instructions = []\n",
    "    with open(infile, 'r') as inf:\n",
    "        for line in inf.readlines():\n",
    "            instructions.append(line.strip())\n",
    "    return instructions\n",
    "\n",
    "def inc(regs, r, v):\n",
    "    regs[r] += v\n",
    "\n",
    "def dec(regs, r, v):\n",
    "    regs[r] -= v\n",
    "    \n",
    "def run_program(instructions):\n",
    "    maxval_total = -1e9\n",
    "    regs = defaultdict(lambda:0)\n",
    "    ops = {'inc': inc,\n",
    "           'dec': dec,\n",
    "           '>': op.gt,\n",
    "           '>=': op.ge,\n",
    "           '<': op.lt,\n",
    "           '<=': op.le,\n",
    "           '==': op.eq,\n",
    "           '!=': op.ne}\n",
    "    for line in instructions:\n",
    "        reg, modifier, val, _, refreg, chk, refval = line.split()\n",
    "        if ops[chk](regs[refreg], int(refval)):\n",
    "            ops[modifier](regs, reg, int(val))\n",
    "            for v in regs.values():\n",
    "                maxval_total = max(v, maxval_total)\n",
    "\n",
    "    maxval = -1e9\n",
    "    for v in regs.values():\n",
    "        maxval = max(v, maxval)\n",
    "    return maxval, maxval_total\n",
    "\n",
    "run_program(read_input('input08.txt'))"
   ]
  },
  {
   "cell_type": "code",
   "execution_count": 4,
   "id": "02f1ce99-6ff6-4230-acc0-c841156b0b96",
   "metadata": {},
   "outputs": [
    {
     "name": "stdout",
     "output_type": "stream",
     "text": [
      "*******\n",
      "Puzzle1\n",
      "*******\n",
      "\n",
      "Test case\n",
      "---------\n",
      "\n",
      "Maximum value is 1\n",
      "\n",
      "Puzzle case\n",
      "-----------\n",
      "\n",
      "Maximum value is 5849\n",
      "\n",
      "*******\n",
      "Puzzle2\n",
      "*******\n",
      "\n",
      "Test case\n",
      "---------\n",
      "\n",
      "Maximum value is 10\n",
      "\n",
      "Puzzle case\n",
      "-----------\n",
      "\n",
      "Maximum value is 6702\n"
     ]
    }
   ],
   "source": [
    "print('*******\\nPuzzle1\\n*******\\n')\n",
    "\n",
    "print('Test case\\n---------\\n')\n",
    "\n",
    "res, _ = run_program(read_input('input08a.txt'))\n",
    "\n",
    "print(f'Maximum value is {res}')\n",
    "\n",
    "assert res == 1\n",
    "\n",
    "print('\\nPuzzle case\\n-----------\\n')\n",
    "\n",
    "res, _ = run_program(read_input('input08.txt'))\n",
    "\n",
    "print(f'Maximum value is {res}')\n",
    "\n",
    "assert res == 5849\n",
    "\n",
    "print('\\n*******\\nPuzzle2\\n*******\\n')\n",
    "\n",
    "print('Test case\\n---------\\n')\n",
    "\n",
    "_, res = run_program(read_input('input08a.txt'))\n",
    "\n",
    "print(f'Maximum value is {res}')\n",
    "\n",
    "assert res == 10\n",
    "\n",
    "print('\\nPuzzle case\\n-----------\\n')\n",
    "\n",
    "_, res = run_program(read_input('input08.txt'))\n",
    "\n",
    "print(f'Maximum value is {res}')\n",
    "\n",
    "assert res == 6702\n"
   ]
  },
  {
   "cell_type": "code",
   "execution_count": null,
   "id": "478feba0-3d74-4ece-85c6-781180f497c6",
   "metadata": {},
   "outputs": [],
   "source": []
  }
 ],
 "metadata": {
  "kernelspec": {
   "display_name": "Python 3 (ipykernel)",
   "language": "python",
   "name": "python3"
  },
  "language_info": {
   "codemirror_mode": {
    "name": "ipython",
    "version": 3
   },
   "file_extension": ".py",
   "mimetype": "text/x-python",
   "name": "python",
   "nbconvert_exporter": "python",
   "pygments_lexer": "ipython3",
   "version": "3.11.4"
  }
 },
 "nbformat": 4,
 "nbformat_minor": 5
}
