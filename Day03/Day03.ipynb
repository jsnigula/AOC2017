{
 "cells": [
  {
   "cell_type": "code",
   "execution_count": 313,
   "id": "a9ee00fa-7910-4dff-9470-04021b0f16b3",
   "metadata": {},
   "outputs": [],
   "source": [
    "import math\n",
    "import numpy as np"
   ]
  },
  {
   "cell_type": "code",
   "execution_count": 347,
   "id": "3998b42f-e6a2-4fcf-af67-0da0cfac0f8d",
   "metadata": {},
   "outputs": [],
   "source": [
    "def read_input(infile):\n",
    "    with open(infile, 'r') as inf:\n",
    "        return int(inf.readline().strip())\n",
    "\n",
    "def manhattanDistance(a,b):\n",
    "    return sum([abs(xa-xb) for xa,xb in zip(a,b)])\n",
    "\n",
    "def unravel(idx):\n",
    "    r = math.floor((math.sqrt(idx-1)))\n",
    "\n",
    "    if r % 2 == 0:\n",
    "        r -= 1\n",
    "\n",
    "    d = r // 2\n",
    "\n",
    "    offset = idx - r*r\n",
    "\n",
    "    x, y = 0, 0\n",
    "    if offset <= r+1: \n",
    "        x = r//2+1\n",
    "        y = offset - d -1\n",
    "    elif r+1 < offset <= 2*r+2: \n",
    "        x = 2*r+2 - offset -d-1\n",
    "        y = r//2+1\n",
    "    elif 2*r+2 < offset <= 3*r+3: \n",
    "        x = -r//2\n",
    "        y = 3*r+3 - offset - d -1\n",
    "    elif 3*r+3 < offset <= 4*r+4: \n",
    "        x = -1 * (4*r+4 - offset -d -1)\n",
    "        y = -r//2\n",
    "\n",
    "    return x, y"
   ]
  },
  {
   "cell_type": "code",
   "execution_count": 365,
   "id": "fbbf62df-8209-4487-af27-57325e8f9e2f",
   "metadata": {},
   "outputs": [],
   "source": [
    "def fill_grid(target):\n",
    "    a = np.zeros((10,10), dtype=int)\n",
    "\n",
    "    v = 1\n",
    "    i = 1\n",
    "    a[4, 4] = v\n",
    "\n",
    "    while True:\n",
    "        x, y = unravel(i)\n",
    "        x += 4\n",
    "        y += 4\n",
    "        v = np.sum(a[y-1:y+2, x-1:x+2])\n",
    "        a[y, x] = v\n",
    "        if v > target:\n",
    "            return v\n",
    "        i+=1"
   ]
  },
  {
   "cell_type": "code",
   "execution_count": 366,
   "id": "02f1ce99-6ff6-4230-acc0-c841156b0b96",
   "metadata": {},
   "outputs": [
    {
     "name": "stdout",
     "output_type": "stream",
     "text": [
      "*******\n",
      "Puzzle1\n",
      "*******\n",
      "\n",
      "Test cases\n",
      "----------\n",
      "\n",
      "Test cases passed\n",
      "\n",
      "Puzzle case\n",
      "-----------\n",
      "\n",
      "Distance is 438\n",
      "\n",
      "*******\n",
      "Puzzle2\n",
      "*******\n",
      "\n",
      "Test case\n",
      "---------\n",
      "\n",
      "First larger value is 931\n",
      "\n",
      "Puzzle case\n",
      "-----------\n",
      "\n",
      "First larger value is 266330\n"
     ]
    }
   ],
   "source": [
    "print('*******\\nPuzzle1\\n*******\\n')\n",
    "\n",
    "print('Test cases\\n----------\\n')\n",
    "\n",
    "assert manhattanDistance((0,0), unravel(1)) == 0\n",
    "assert manhattanDistance((0,0), unravel(12)) == 3\n",
    "assert manhattanDistance((0,0), unravel(23)) == 2\n",
    "assert manhattanDistance((0,0), unravel(1024)) == 31\n",
    "\n",
    "print('Test cases passed')\n",
    "\n",
    "print('\\nPuzzle case\\n-----------\\n')\n",
    "\n",
    "res = manhattanDistance((0,0), unravel(read_input('input03.txt')))\n",
    "\n",
    "print(f'Distance is {res}')\n",
    "\n",
    "assert res == 438\n",
    "\n",
    "print('\\n*******\\nPuzzle2\\n*******\\n')\n",
    "\n",
    "print('Test case\\n---------\\n')\n",
    "\n",
    "res = fill_grid(900)\n",
    "\n",
    "print(f'First larger value is {res}')\n",
    "\n",
    "assert res == 931\n",
    "\n",
    "print('\\nPuzzle case\\n-----------\\n')\n",
    "\n",
    "res = fill_grid(read_input('input03.txt'))\n",
    "\n",
    "print(f'First larger value is {res}')\n",
    "\n",
    "assert res == 266330\n"
   ]
  },
  {
   "cell_type": "code",
   "execution_count": null,
   "id": "478feba0-3d74-4ece-85c6-781180f497c6",
   "metadata": {},
   "outputs": [],
   "source": []
  }
 ],
 "metadata": {
  "kernelspec": {
   "display_name": "Python 3 (ipykernel)",
   "language": "python",
   "name": "python3"
  },
  "language_info": {
   "codemirror_mode": {
    "name": "ipython",
    "version": 3
   },
   "file_extension": ".py",
   "mimetype": "text/x-python",
   "name": "python",
   "nbconvert_exporter": "python",
   "pygments_lexer": "ipython3",
   "version": "3.10.4"
  }
 },
 "nbformat": 4,
 "nbformat_minor": 5
}
