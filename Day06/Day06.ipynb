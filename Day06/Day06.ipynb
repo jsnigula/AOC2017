{
 "cells": [
  {
   "cell_type": "code",
   "execution_count": 29,
   "id": "a9ee00fa-7910-4dff-9470-04021b0f16b3",
   "metadata": {},
   "outputs": [],
   "source": [
    "import copy"
   ]
  },
  {
   "cell_type": "code",
   "execution_count": 36,
   "id": "3998b42f-e6a2-4fcf-af67-0da0cfac0f8d",
   "metadata": {},
   "outputs": [],
   "source": [
    "def read_input(infile):\n",
    "    with open(infile, 'r') as inf:\n",
    "        line = inf.readline()\n",
    "        return [int(v) for v in line.strip().split()]\n",
    "\n",
    "def distribute(mem, fixed_seen=False):\n",
    "    seen = []\n",
    "    seen.append(copy.copy(mem))\n",
    "    n_iter = 0\n",
    "\n",
    "    while True:\n",
    "        n_iter += 1\n",
    "        # print(1, n_iter, mem, seen)\n",
    "        idx = mem.index(max(mem))\n",
    "        # print(idx)\n",
    "        n_bytes = mem[idx]\n",
    "        # print(n_bytes)\n",
    "        mem[idx] = 0\n",
    "\n",
    "        for i in range(1, n_bytes+1):\n",
    "            # print('i1', i, idx, mem)\n",
    "            idx += 1\n",
    "            if idx >= len(mem):\n",
    "                idx = 0\n",
    "\n",
    "            mem[idx] += 1\n",
    "            # print('i2', i, idx, mem)\n",
    "\n",
    "        # print(2, n_iter, mem, seen)\n",
    "        if mem in seen:\n",
    "            return n_iter, mem\n",
    "\n",
    "        if not fixed_seen:\n",
    "            seen.append(copy.copy(mem))\n",
    "    \n",
    "def find_repeat_loop(mem):\n",
    "\n",
    "    _, first_loop = distribute(mem)\n",
    "\n",
    "    return distribute(first_loop, fixed_seen=True)"
   ]
  },
  {
   "cell_type": "code",
   "execution_count": 38,
   "id": "da5c17b3-477b-4f2c-a51b-b526a14f95f9",
   "metadata": {},
   "outputs": [
    {
     "data": {
      "text/plain": [
       "(2392, [0, 14, 13, 12, 11, 10, 8, 8, 6, 6, 5, 3, 3, 2, 1, 10])"
      ]
     },
     "execution_count": 38,
     "metadata": {},
     "output_type": "execute_result"
    }
   ],
   "source": [
    "find_repeat_loop(read_input('input06.txt'))"
   ]
  },
  {
   "cell_type": "code",
   "execution_count": 39,
   "id": "02f1ce99-6ff6-4230-acc0-c841156b0b96",
   "metadata": {},
   "outputs": [
    {
     "name": "stdout",
     "output_type": "stream",
     "text": [
      "*******\n",
      "Puzzle1\n",
      "*******\n",
      "\n",
      "Test case\n",
      "---------\n",
      "\n",
      "Loop found after 5 loops\n",
      "\n",
      "Puzzle case\n",
      "-----------\n",
      "\n",
      "Loop found after 6681 loops\n",
      "\n",
      "*******\n",
      "Puzzle2\n",
      "*******\n",
      "\n",
      "Test case\n",
      "---------\n",
      "\n",
      "Loop repeats after 4 loops\n",
      "\n",
      "Puzzle case\n",
      "-----------\n",
      "\n",
      "Loop repeats after 2392 loops\n"
     ]
    }
   ],
   "source": [
    "print('*******\\nPuzzle1\\n*******\\n')\n",
    "\n",
    "print('Test case\\n---------\\n')\n",
    "\n",
    "res, _ = distribute(read_input('input06a.txt'))\n",
    "\n",
    "print(f'Loop found after {res} loops')\n",
    "\n",
    "assert res == 5\n",
    "\n",
    "print('\\nPuzzle case\\n-----------\\n')\n",
    "\n",
    "res, _ = distribute(read_input('input06.txt'))\n",
    "\n",
    "print(f'Loop found after {res} loops')\n",
    "\n",
    "assert res == 6681\n",
    "\n",
    "print('\\n*******\\nPuzzle2\\n*******\\n')\n",
    "\n",
    "print('Test case\\n---------\\n')\n",
    "\n",
    "res, _ = find_repeat_loop(read_input('input06a.txt'))\n",
    "\n",
    "print(f'Loop repeats after {res} loops')\n",
    "\n",
    "assert res == 4\n",
    "\n",
    "print('\\nPuzzle case\\n-----------\\n')\n",
    "\n",
    "res, _ = find_repeat_loop(read_input('input06.txt'))\n",
    "\n",
    "print(f'Loop repeats after {res} loops')\n",
    "\n",
    "assert res == 2392\n"
   ]
  },
  {
   "cell_type": "code",
   "execution_count": null,
   "id": "478feba0-3d74-4ece-85c6-781180f497c6",
   "metadata": {},
   "outputs": [],
   "source": []
  }
 ],
 "metadata": {
  "kernelspec": {
   "display_name": "Python 3 (ipykernel)",
   "language": "python",
   "name": "python3"
  },
  "language_info": {
   "codemirror_mode": {
    "name": "ipython",
    "version": 3
   },
   "file_extension": ".py",
   "mimetype": "text/x-python",
   "name": "python",
   "nbconvert_exporter": "python",
   "pygments_lexer": "ipython3",
   "version": "3.10.4"
  }
 },
 "nbformat": 4,
 "nbformat_minor": 5
}
