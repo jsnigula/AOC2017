{
 "cells": [
  {
   "cell_type": "code",
   "execution_count": null,
   "id": "a9ee00fa-7910-4dff-9470-04021b0f16b3",
   "metadata": {},
   "outputs": [],
   "source": []
  },
  {
   "cell_type": "code",
   "execution_count": 22,
   "id": "3998b42f-e6a2-4fcf-af67-0da0cfac0f8d",
   "metadata": {},
   "outputs": [],
   "source": [
    "def read_input(infile):\n",
    "    with open(infile, 'r') as inf:\n",
    "        return int(inf.readline().strip())"
   ]
  },
  {
   "cell_type": "code",
   "execution_count": 39,
   "id": "da5c17b3-477b-4f2c-a51b-b526a14f95f9",
   "metadata": {},
   "outputs": [],
   "source": [
    "def spin(step):\n",
    "    data = [0]\n",
    "    ni = 0\n",
    "    for i in range(2017):\n",
    "        ni = (ni+step) % len(data) + 1\n",
    "        data.insert(ni, i+1)\n",
    "    return data[ni+1]\n",
    "\n",
    "def spin2(step):\n",
    "    data = [0]\n",
    "\n",
    "    ni = 0\n",
    "    l = 1\n",
    "    at_one = 0\n",
    "    for i in range(50000000):\n",
    "        ni = (ni+step) % l + 1\n",
    "        l += 1\n",
    "        if ni==1:\n",
    "            at_one = i+1\n",
    "\n",
    "    return at_one\n"
   ]
  },
  {
   "cell_type": "code",
   "execution_count": 40,
   "id": "02f1ce99-6ff6-4230-acc0-c841156b0b96",
   "metadata": {},
   "outputs": [
    {
     "name": "stdout",
     "output_type": "stream",
     "text": [
      "*******\n",
      "Puzzle1\n",
      "*******\n",
      "\n",
      "Test case\n",
      "---------\n",
      "\n",
      "Result is 638\n",
      "\n",
      "Puzzle case\n",
      "-----------\n",
      "\n",
      "Result is 204\n",
      "\n",
      "*******\n",
      "Puzzle2\n",
      "*******\n",
      "\n",
      "Puzzle case\n",
      "-----------\n",
      "\n",
      "Result is 28954211\n"
     ]
    }
   ],
   "source": [
    "print('*******\\nPuzzle1\\n*******\\n')\n",
    "\n",
    "print('Test case\\n---------\\n')\n",
    "\n",
    "res = spin(read_input('input17a.txt'))\n",
    "\n",
    "print(f'Result is {res}')\n",
    "\n",
    "assert res == 638\n",
    "\n",
    "print('\\nPuzzle case\\n-----------\\n')\n",
    "\n",
    "res = spin(read_input('input17.txt'))\n",
    "\n",
    "print(f'Result is {res}')\n",
    "\n",
    "assert res == 204\n",
    "\n",
    "print('\\n*******\\nPuzzle2\\n*******\\n')\n",
    "\n",
    "print('Puzzle case\\n-----------\\n')\n",
    "\n",
    "res = spin2(read_input('input17.txt'))\n",
    "\n",
    "print(f'Result is {res}')\n",
    "\n",
    "assert res == 28954211\n"
   ]
  },
  {
   "cell_type": "code",
   "execution_count": null,
   "id": "478feba0-3d74-4ece-85c6-781180f497c6",
   "metadata": {},
   "outputs": [],
   "source": []
  }
 ],
 "metadata": {
  "kernelspec": {
   "display_name": "Python 3 (ipykernel)",
   "language": "python",
   "name": "python3"
  },
  "language_info": {
   "codemirror_mode": {
    "name": "ipython",
    "version": 3
   },
   "file_extension": ".py",
   "mimetype": "text/x-python",
   "name": "python",
   "nbconvert_exporter": "python",
   "pygments_lexer": "ipython3",
   "version": "3.11.4"
  }
 },
 "nbformat": 4,
 "nbformat_minor": 5
}
